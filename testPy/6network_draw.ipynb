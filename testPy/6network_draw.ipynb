{
 "cells": [
  {
   "cell_type": "markdown",
   "metadata": {},
   "source": [
    "为每一个簇选出最有影响力的作者和机构 前10%"
   ]
  },
  {
   "cell_type": "code",
   "execution_count": 1,
   "metadata": {},
   "outputs": [],
   "source": [
    "import json\n",
    "with open(\"../output_data/auCoop10.json\", \"r\", encoding=\"utf-8\") as f:\n",
    "    jsonData = json.load(f)\n"
   ]
  },
  {
   "cell_type": "code",
   "execution_count": 4,
   "metadata": {},
   "outputs": [
    {
     "name": "stdout",
     "output_type": "stream",
     "text": [
      "50\n",
      "50\n",
      "50\n",
      "50\n",
      "50\n",
      "56\n",
      "61\n",
      "66\n",
      "146\n",
      "137\n",
      "134\n"
     ]
    }
   ],
   "source": [
    "def findMax(n):\n",
    "    # 保留前10%（至少50个）作者\n",
    "    dc={}\n",
    "    for node in jsonData[\"nodes\"]:\n",
    "        if int(node[\"cluster\"]) == n:\n",
    "            dc[node[\"id\"]]=node[\"coop\"]\n",
    "    ls=[(id,dc[id]) for id in dc]\n",
    "    ls.sort(key=lambda x:x[1],reverse=True)\n",
    "    l=len(ls)\n",
    "    l=int(l*0.1)\n",
    "    if l<50:\n",
    "        if len(ls)<50:\n",
    "            l=len(ls)\n",
    "        else:\n",
    "            l=50\n",
    "    ls=[id[0] for id in ls[:l]]\n",
    "    return ls\n",
    "\n",
    "c0=[]\n",
    "c0=findMax(0)\n",
    "print(len(c0))\n",
    "\n",
    "c1 = []\n",
    "c1 = findMax(1)\n",
    "print(len(c1))\n",
    "\n",
    "c2 = []\n",
    "c2 = findMax(2)\n",
    "print(len(c2))\n",
    "\n",
    "c3 = []\n",
    "c3 = findMax(3)\n",
    "print(len(c3))\n",
    "\n",
    "c4 = []\n",
    "c4 = findMax(4)\n",
    "print(len(c4))\n",
    "\n",
    "c5 = []\n",
    "c5 = findMax(5)\n",
    "print(len(c5))\n",
    "\n",
    "c6 = []\n",
    "c6 = findMax(6)\n",
    "print(len(c6))\n",
    "\n",
    "c7 = []\n",
    "c7 = findMax(7)\n",
    "print(len(c7))\n",
    "\n",
    "c8 = []\n",
    "c8 = findMax(8)\n",
    "print(len(c8))\n",
    "\n",
    "c9 = []\n",
    "c9 = findMax(9)\n",
    "print(len(c9))\n",
    "\n",
    "c10 = []\n",
    "c10 = findMax(10)\n",
    "print(len(c10))"
   ]
  },
  {
   "cell_type": "code",
   "execution_count": 5,
   "metadata": {},
   "outputs": [
    {
     "name": "stdout",
     "output_type": "stream",
     "text": [
      "850\n",
      "2996\n"
     ]
    }
   ],
   "source": [
    "cAll=[]\n",
    "cAll.append(c0)\n",
    "cAll.append(c1)\n",
    "cAll.append(c2)\n",
    "cAll.append(c3)\n",
    "cAll.append(c4)\n",
    "cAll.append(c5)\n",
    "cAll.append(c6)\n",
    "cAll.append(c7)\n",
    "cAll.append(c8)\n",
    "cAll.append(c9)\n",
    "cAll.append(c10)\n",
    "nodes=[]\n",
    "links=[]\n",
    "\n",
    "for node in jsonData[\"nodes\"]:\n",
    "    c= node[\"cluster\"]\n",
    "    id=node[\"id\"]\n",
    "    if id in cAll[c]:\n",
    "        nodes.append(node)\n",
    "print(len(nodes))\n",
    "\n",
    "for link in jsonData[\"links\"]:\n",
    "    c=link[\"cluster\"]\n",
    "    s=link[\"source\"]\n",
    "    t=link[\"target\"]\n",
    "    if s in cAll[c] and t in cAll[c]:\n",
    "        links.append(link)\n",
    "print(len(links))"
   ]
  },
  {
   "cell_type": "code",
   "execution_count": 6,
   "metadata": {},
   "outputs": [],
   "source": [
    "jsonData_Draw={\"nodes\":nodes,\"links\":links}\n",
    "with open(\"../output_data/auNet_Draw10.json\", \"w\", encoding=\"utf-8\") as f:\n",
    "    json.dump(jsonData_Draw, f, indent=4, ensure_ascii=False)"
   ]
  },
  {
   "cell_type": "code",
   "execution_count": 7,
   "metadata": {},
   "outputs": [
    {
     "name": "stdout",
     "output_type": "stream",
     "text": [
      "850\n",
      "2996\n"
     ]
    }
   ],
   "source": [
    "with open(\"../output_data/auNet_Draw10.json\", \"r\", encoding=\"utf-8\") as f:\n",
    "    jsonData = json.load(f)\n",
    "print(len(jsonData_Draw[\"nodes\"]))\n",
    "print(len(jsonData_Draw[\"links\"]))"
   ]
  },
  {
   "cell_type": "code",
   "execution_count": 8,
   "metadata": {},
   "outputs": [],
   "source": [
    "# 处理机构网络\n",
    "import json\n",
    "\n",
    "with open(\"../output_data/instCoop10.json\", \"r\", encoding=\"utf-8\") as f:\n",
    "    jsonData = json.load(f)"
   ]
  },
  {
   "cell_type": "code",
   "execution_count": 9,
   "metadata": {},
   "outputs": [
    {
     "name": "stdout",
     "output_type": "stream",
     "text": [
      "30\n",
      "30\n",
      "30\n",
      "30\n",
      "30\n",
      "40\n",
      "39\n",
      "41\n",
      "96\n",
      "90\n",
      "89\n"
     ]
    }
   ],
   "source": [
    "def findMax(n):\n",
    "    # 保留前30%（至少30个）机构\n",
    "    dc = {}\n",
    "    for node in jsonData[\"nodes\"]:\n",
    "        if int(node[\"cluster\"]) == n:\n",
    "            dc[node[\"id\"]] = node[\"coop\"]\n",
    "    ls = [(id, dc[id]) for id in dc]\n",
    "    ls.sort(key=lambda x: x[1], reverse=True)\n",
    "    l = len(ls)\n",
    "    l = int(l * 0.3)\n",
    "    if l < 30:\n",
    "        if len(ls) < 30:\n",
    "            l = len(ls)\n",
    "        else:\n",
    "            l = 30\n",
    "    ls = [id[0] for id in ls[:l]]\n",
    "    return ls\n",
    "\n",
    "\n",
    "c0 = []\n",
    "c0 = findMax(0)\n",
    "print(len(c0))\n",
    "\n",
    "c1 = []\n",
    "c1 = findMax(1)\n",
    "print(len(c1))\n",
    "\n",
    "c2 = []\n",
    "c2 = findMax(2)\n",
    "print(len(c2))\n",
    "\n",
    "c3 = []\n",
    "c3 = findMax(3)\n",
    "print(len(c3))\n",
    "\n",
    "c4 = []\n",
    "c4 = findMax(4)\n",
    "print(len(c4))\n",
    "\n",
    "c5 = []\n",
    "c5 = findMax(5)\n",
    "print(len(c5))\n",
    "\n",
    "c6 = []\n",
    "c6 = findMax(6)\n",
    "print(len(c6))\n",
    "\n",
    "c7 = []\n",
    "c7 = findMax(7)\n",
    "print(len(c7))\n",
    "\n",
    "c8 = []\n",
    "c8 = findMax(8)\n",
    "print(len(c8))\n",
    "\n",
    "c9 = []\n",
    "c9 = findMax(9)\n",
    "print(len(c9))\n",
    "\n",
    "c10 = []\n",
    "c10 = findMax(10)\n",
    "print(len(c10))"
   ]
  },
  {
   "cell_type": "code",
   "execution_count": 10,
   "metadata": {},
   "outputs": [
    {
     "name": "stdout",
     "output_type": "stream",
     "text": [
      "545\n",
      "1397\n"
     ]
    }
   ],
   "source": [
    "cAll = []\n",
    "cAll.append(c0)\n",
    "cAll.append(c1)\n",
    "cAll.append(c2)\n",
    "cAll.append(c3)\n",
    "cAll.append(c4)\n",
    "cAll.append(c5)\n",
    "cAll.append(c6)\n",
    "cAll.append(c7)\n",
    "cAll.append(c8)\n",
    "cAll.append(c9)\n",
    "cAll.append(c10)\n",
    "nodes = []\n",
    "links = []\n",
    "\n",
    "for node in jsonData[\"nodes\"]:\n",
    "    c = node[\"cluster\"]\n",
    "    id = node[\"id\"]\n",
    "    if id in cAll[c]:\n",
    "        nodes.append(node)\n",
    "print(len(nodes))\n",
    "\n",
    "for link in jsonData[\"links\"]:\n",
    "    c = link[\"cluster\"]\n",
    "    s = link[\"source\"]\n",
    "    t = link[\"target\"]\n",
    "    if s in cAll[c] and t in cAll[c]:\n",
    "        links.append(link)\n",
    "print(len(links))"
   ]
  },
  {
   "cell_type": "code",
   "execution_count": 11,
   "metadata": {},
   "outputs": [
    {
     "name": "stdout",
     "output_type": "stream",
     "text": [
      "545\n",
      "1397\n"
     ]
    }
   ],
   "source": [
    "jsonData_Draw = {\"nodes\": nodes, \"links\": links}\n",
    "with open(\"../output_data/instNet_Draw10.json\", \"w\", encoding=\"utf-8\") as f:\n",
    "    json.dump(jsonData_Draw, f, indent=4, ensure_ascii=False)\n",
    "with open(\"../output_data/instNet_Draw10.json\", \"r\", encoding=\"utf-8\") as f:\n",
    "    jsonData = json.load(f)\n",
    "print(len(jsonData_Draw[\"nodes\"]))\n",
    "print(len(jsonData_Draw[\"links\"]))"
   ]
  }
 ],
 "metadata": {
  "kernelspec": {
   "display_name": "Python 3",
   "language": "python",
   "name": "python3"
  },
  "language_info": {
   "codemirror_mode": {
    "name": "ipython",
    "version": 3
   },
   "file_extension": ".py",
   "mimetype": "text/x-python",
   "name": "python",
   "nbconvert_exporter": "python",
   "pygments_lexer": "ipython3",
   "version": "3.13.1"
  }
 },
 "nbformat": 4,
 "nbformat_minor": 2
}
