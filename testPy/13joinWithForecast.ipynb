{
 "cells": [
  {
   "cell_type": "markdown",
   "id": "9b8da07c",
   "metadata": {},
   "source": [
    "将预测数据整理到统计数据中"
   ]
  },
  {
   "cell_type": "code",
   "execution_count": 1,
   "id": "978b4b7f",
   "metadata": {},
   "outputs": [],
   "source": [
    "import json\n",
    "import pandas as pd"
   ]
  },
  {
   "cell_type": "code",
   "execution_count": 2,
   "id": "3d47f855",
   "metadata": {},
   "outputs": [
    {
     "name": "stdout",
     "output_type": "stream",
     "text": [
      "{'cluster': 1, 'topic': 0, 'year': 2016, 'value': 0}\n",
      "type       paperCounts\n",
      "cluster              1\n",
      "topic                0\n",
      "2025          6.009206\n",
      "Name: 0, dtype: object\n"
     ]
    }
   ],
   "source": [
    "with open('../output_data/centrality.json','r',encoding='utf-8') as f:\n",
    "    jsonData=json.load(f)\n",
    "\n",
    "forecast_data = pd.read_excel(\"../output_data/forecast_data.xlsx\", index_col=0)\n",
    "\n",
    "print(jsonData[\"paperCounts\"][0])\n",
    "print(forecast_data.loc[0])"
   ]
  },
  {
   "cell_type": "code",
   "execution_count": 3,
   "id": "aae89abd",
   "metadata": {},
   "outputs": [
    {
     "name": "stdout",
     "output_type": "stream",
     "text": [
      "81\n",
      "81\n",
      "81\n",
      "{'cluster': 1, 'topic': 0, 'year': 2025, 'value': 8}\n"
     ]
    }
   ],
   "source": [
    "ls_paperCounts=[]\n",
    "ls_closeness = []\n",
    "ls_betweenness = []\n",
    "\n",
    "for idx, row in forecast_data.iterrows():\n",
    "    if row[\"type\"]==\"paperCounts\":\n",
    "        newelm = {\n",
    "            \"cluster\": row[\"cluster\"],\n",
    "            \"topic\": row[\"topic\"],\n",
    "            \"year\": 2025,\n",
    "            \"value\": round(row[2025]),\n",
    "        }\n",
    "        ls_paperCounts.append(newelm)\n",
    "    else:\n",
    "        newelm = {\n",
    "            \"cluster\": row[\"cluster\"],\n",
    "            \"topic\": row[\"topic\"],\n",
    "            \"year\": 2025,\n",
    "            \"value\": round(row[2025]*1e4),\n",
    "        }\n",
    "        if row[\"type\"]==\"closeness\":\n",
    "            ls_closeness.append(newelm)\n",
    "        elif row[\"type\"]==\"betweenness\":\n",
    "            ls_betweenness.append(newelm)\n",
    "print(len(ls_paperCounts))\n",
    "print(len(ls_closeness))\n",
    "print(len(ls_betweenness))\n",
    "print(ls_betweenness[0])\n",
    "    "
   ]
  },
  {
   "cell_type": "code",
   "execution_count": 4,
   "id": "adb5d789",
   "metadata": {},
   "outputs": [
    {
     "name": "stdout",
     "output_type": "stream",
     "text": [
      "810\n"
     ]
    }
   ],
   "source": [
    "# 按照cluster递增 按照year递增 按照topic递增\n",
    "ls_paperCounts+=jsonData[\"paperCounts\"]\n",
    "ls_paperCounts.sort(key=lambda x:(x[\"cluster\"],x[\"year\"],x[\"topic\"]))\n",
    "\n",
    "for i in jsonData[\"closeness\"]:\n",
    "    i[\"value\"] = round(i[\"value\"] * 1e4)\n",
    "ls_closeness += jsonData[\"closeness\"]\n",
    "ls_closeness.sort(key=lambda x: (x[\"cluster\"], x[\"year\"], x[\"topic\"]))\n",
    "\n",
    "for i in jsonData[\"betweenness\"]:\n",
    "    i[\"value\"] = round(i[\"value\"] * 1e4)\n",
    "ls_betweenness += jsonData[\"betweenness\"]\n",
    "ls_betweenness.sort(key=lambda x: (x[\"cluster\"], x[\"year\"], x[\"topic\"]))\n",
    "\n",
    "print(len(ls_paperCounts))"
   ]
  },
  {
   "cell_type": "code",
   "execution_count": 5,
   "id": "be97e418",
   "metadata": {},
   "outputs": [
    {
     "name": "stdout",
     "output_type": "stream",
     "text": [
      "810\n"
     ]
    }
   ],
   "source": [
    "jsonData[\"paperCounts\"]=ls_paperCounts\n",
    "jsonData[\"closeness\"]=ls_closeness\n",
    "jsonData[\"betweenness\"]=ls_betweenness\n",
    "\n",
    "print(len(jsonData[\"paperCounts\"]))\n",
    "\n",
    "with open(\"../output_data/centrality_forecast.json\", \"w\", encoding=\"utf-8\") as f:\n",
    "    json.dump(jsonData, f, indent=4, ensure_ascii=False)"
   ]
  }
 ],
 "metadata": {
  "kernelspec": {
   "display_name": "Python 3",
   "language": "python",
   "name": "python3"
  },
  "language_info": {
   "codemirror_mode": {
    "name": "ipython",
    "version": 3
   },
   "file_extension": ".py",
   "mimetype": "text/x-python",
   "name": "python",
   "nbconvert_exporter": "python",
   "pygments_lexer": "ipython3",
   "version": "3.13.1"
  }
 },
 "nbformat": 4,
 "nbformat_minor": 5
}
