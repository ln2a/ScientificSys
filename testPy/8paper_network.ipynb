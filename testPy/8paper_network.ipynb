{
 "cells": [
  {
   "cell_type": "markdown",
   "metadata": {},
   "source": [
    "提取同一簇的所有paper以及links构造network"
   ]
  },
  {
   "cell_type": "code",
   "execution_count": 1,
   "metadata": {},
   "outputs": [
    {
     "name": "stdout",
     "output_type": "stream",
     "text": [
      "2756\n",
      "2756\n",
      "2756\n",
      "2756\n",
      "2756\n"
     ]
    }
   ],
   "source": [
    "import json\n",
    "\n",
    "paperToCluster = {}\n",
    "paperTotopic = {}\n",
    "papers = []\n",
    "paperNodes = []\n",
    "\n",
    "\n",
    "with open(\"../output_data/jsonCluster_All_Coop10.json\", \"r\", encoding=\"utf-8\") as f:\n",
    "\n",
    "\n",
    "    jsonData = json.load(f)  \n",
    "\n",
    "\n",
    "with open(\"../output_data/papersToTopicInfo.json\", \"r\", encoding=\"utf-8\") as f:\n",
    "    jsonDataTopic = json.load(f)\n",
    "\n",
    "paperNodes = jsonDataTopic\n",
    "print(len(paperNodes))\n",
    "\n",
    "for node in jsonDataTopic:\n",
    "    paperToCluster[node[\"id\"]]=node[\"cluster\"]\n",
    "    paperTotopic[node[\"id\"]] = node[\"topic\"]\n",
    "    papers.append(node[\"id\"])\n",
    "print(len(paperTotopic))\n",
    "print(len(paperToCluster))\n",
    "print(len(papers))\n",
    "papers = list(set(papers))\n",
    "print(len(papers))\n"
   ]
  },
  {
   "cell_type": "code",
   "execution_count": 2,
   "metadata": {},
   "outputs": [
    {
     "name": "stdout",
     "output_type": "stream",
     "text": [
      "10\n",
      "{3: [('Global Topology of 3D Symmetric Tensor Fields', 'Feature Surfaces in Symmetric Tensor Fields Based on Eigenvalue Manifold'), ('Global Topology of 3D Symmetric Tensor Fields', 'Robust and Fast Extraction of 3D Symmetric Tensor Field Topology'), ('Robust and Fast Extraction of 3D Symmetric Tensor Field Topology', 'Feature Surfaces in Symmetric Tensor Fields Based on Eigenvalue Manifold'), ('Feature Curves and Surfaces of 3D Asymmetric Tensor Fields', 'Feature Surfaces in Symmetric Tensor Fields Based on Eigenvalue Manifold'), ('Feature Curves and Surfaces of 3D Asymmetric Tensor Fields', 'Robust and Fast Extraction of 3D Symmetric Tensor Field Topology'), ('DT-MRI Streamsurfaces Revisited', 'Feature Surfaces in Symmetric Tensor Fields Based on Eigenvalue Manifold')], 1: [('A Simple Pipeline for Coherent Grid Maps', 'Small Multiples with Gaps'), ('The Effectiveness of Interactive Visualization Techniques for Time Navigation of Dynamic Graphs on Large Displays', 'Event-Based Dynamic Graph Visualisation'), ('Edge-Path Bundling: A Less Ambiguous Edge Bundling Approach', 'Further Towards Unambiguous Edge Bundling: Investigating Power-Confluent Drawings for Network Visualization')], 5: [('Effectiveness of Area-to-Value Legends and Grid Lines in Contiguous Area Cartograms', 'Evaluating Cartogram Effectiveness'), ('Cartogram Visualization for Bivariate Geo-Statistical Data', 'Evaluating Cartogram Effectiveness')], 6: [('SPEULER: Semantics-preserving Euler Diagrams', 'MetroSets: Visualizing Sets as Metro Maps'), ('SPEULER: Semantics-preserving Euler Diagrams', 'A Simple Approach for Boundary Improvement of Euler Diagrams'), ('SPEULER: Semantics-preserving Euler Diagrams', 'On the Readability of Abstract Set Visualizations'), ('MetroSets: Visualizing Sets as Metro Maps', 'RainBio: Proportional Visualization of Large Sets in Biology'), ('MetroSets: Visualizing Sets as Metro Maps', 'A Simple Approach for Boundary Improvement of Euler Diagrams'), ('Overlap Removal by Stochastic Gradient Descent With(out) Shape Awareness', 'Guaranteed Visibility in Scatterplots with Tolerance'), ('Automatic Polygon Layout for Primal-Dual Visualization of Hypergraphs', 'MetroSets: Visualizing Sets as Metro Maps'), ('LinSets.zip: Compressing Linear Set Diagrams', 'MetroSets: Visualizing Sets as Metro Maps'), ('LinSets.zip: Compressing Linear Set Diagrams', 'SPEULER: Semantics-preserving Euler Diagrams'), ('LinSets.zip: Compressing Linear Set Diagrams', 'RainBio: Proportional Visualization of Large Sets in Biology'), ('On the Readability of Abstract Set Visualizations', 'MetroSets: Visualizing Sets as Metro Maps'), ('On the Readability of Abstract Set Visualizations', 'A Simple Approach for Boundary Improvement of Euler Diagrams')], 7: [('SmartGD: A GAN-Based Graph Drawing Framework for Diverse Aesthetic Goals', 'Multicriteria Scalable Graph Drawing via Stochastic Gradient Descent, (SGD)<SUP>2</SUP>'), ('SmartGD: A GAN-Based Graph Drawing Framework for Diverse Aesthetic Goals', 'Graph Drawing by Stochastic Gradient Descent'), ('Toward Efficient Deep Learning for Graph Drawing (DL4GD)', 'Graph Drawing by Stochastic Gradient Descent'), ('Multicriteria Scalable Graph Drawing via Stochastic Gradient Descent, (SGD)<SUP>2</SUP>', 'Graph Drawing by Stochastic Gradient Descent')], 4: [('SSRNet: Scalable 3D Surface Reconstruction Network', 'Surface Reconstruction from Discrete Indicator Functions')]}\n"
     ]
    }
   ],
   "source": [
    "paperLinks=[]\n",
    "paperEdges={}\n",
    "for link in jsonData[\"links\"]:\n",
    "    s=link[\"source\"]\n",
    "    t=link[\"target\"]\n",
    "    if s in papers and t in papers and paperToCluster[s]==paperToCluster[t]:\n",
    "        paperLinks.append(link)\n",
    "        if paperTotopic[s]==paperTotopic[t]:\n",
    "            if paperToCluster[s] not in paperEdges:\n",
    "                paperEdges[paperToCluster[s]]={}\n",
    "            if paperTotopic[s] not in paperEdges[paperToCluster[s]]:\n",
    "                paperEdges[paperToCluster[s]][paperTotopic[s]]=[]\n",
    "            paperEdges[paperToCluster[s]][paperTotopic[s]].append((s,t))\n",
    "            # break\n",
    "            # 节点 节点 簇号 主题号\n",
    "# print(paperEdges)\n",
    "# print(len(paperLinks))\n",
    "print(len(paperEdges))\n",
    "print(paperEdges[1])"
   ]
  },
  {
   "cell_type": "markdown",
   "metadata": {},
   "source": [
    "用最小生成树算法构建最小连通子图"
   ]
  },
  {
   "cell_type": "code",
   "execution_count": 3,
   "metadata": {},
   "outputs": [],
   "source": [
    "import networkx as nx\n",
    "minEdges=[]\n",
    "EdgeInquire={}  # 查询当前边\n",
    "# 创建无向图（所有边的权重相同）\n",
    "for cluster in paperEdges:\n",
    "    for topic in paperEdges[cluster]:\n",
    "        G = nx.Graph()\n",
    "        G.add_edges_from(paperEdges[cluster][topic])  # 添加边，每条边的权重默认是 1\n",
    "        # 计算最小生成树\n",
    "        MST = nx.minimum_spanning_tree(G)\n",
    "        for edge in MST.edges():\n",
    "            e={\"source\":edge[0],\"target\":edge[1],\"cluster\":cluster,\"topic\":topic}\n",
    "            minEdges.append(e)\n",
    "            if (cluster,topic) not in EdgeInquire:\n",
    "                EdgeInquire[(cluster,topic)]=[]\n",
    "            EdgeInquire[(cluster, topic)].append((edge[0], edge[1]))\n",
    "# 输出最小生成树的边\n",
    "# print(\"最小生成树的边:\", MST.edges())"
   ]
  },
  {
   "cell_type": "code",
   "execution_count": 4,
   "metadata": {},
   "outputs": [],
   "source": [
    "# 修改links内容 建立同簇的引用网络\n",
    "for i in range(len(paperLinks)):\n",
    "   s=paperLinks[i][\"source\"]\n",
    "   t=paperLinks[i][\"target\"]\n",
    "   paperLinks[i][\"cluster\"]=paperToCluster[s]\n",
    "   paperLinks[i][\"value\"]=1\n",
    "   if paperTotopic[s]==paperTotopic[t]:\n",
    "      for k,v in EdgeInquire[(paperToCluster[s],paperTotopic[s])]:\n",
    "         if k==s and v==t or k==t and v==s:\n",
    "            paperLinks[i][\"value\"]=10\n",
    "            paperLinks[i][\"topic\"]=paperTotopic[s]"
   ]
  },
  {
   "cell_type": "code",
   "execution_count": 5,
   "metadata": {},
   "outputs": [],
   "source": [
    "jsonNetwork={}\n",
    "jsonNetwork[\"nodes\"]=paperNodes\n",
    "jsonNetwork[\"links\"]=paperLinks\n",
    "jsonNetwork[\"edges\"]=minEdges\n",
    "\n",
    "with open(\"../output_data/papersCoop10.json\", \"w\", encoding=\"utf-8\") as f:\n",
    "    json.dump(jsonNetwork, f, indent=4, ensure_ascii=False)"
   ]
  },
  {
   "cell_type": "code",
   "execution_count": null,
   "metadata": {},
   "outputs": [],
   "source": []
  }
 ],
 "metadata": {
  "kernelspec": {
   "display_name": "Python 3",
   "language": "python",
   "name": "python3"
  },
  "language_info": {
   "codemirror_mode": {
    "name": "ipython",
    "version": 3
   },
   "file_extension": ".py",
   "mimetype": "text/x-python",
   "name": "python",
   "nbconvert_exporter": "python",
   "pygments_lexer": "ipython3",
   "version": "3.13.1"
  }
 },
 "nbformat": 4,
 "nbformat_minor": 2
}
