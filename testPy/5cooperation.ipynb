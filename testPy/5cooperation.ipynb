{
 "cells": [
  {
   "cell_type": "markdown",
   "metadata": {},
   "source": [
    "计算作者合作次数和机构合作次数\n",
    "建立合作网络"
   ]
  },
  {
   "cell_type": "code",
   "execution_count": 1,
   "metadata": {},
   "outputs": [],
   "source": [
    "import pandas as pd\n",
    "\n",
    "df = pd.read_excel(\"../output_data/nodes_10y_clean.xlsx\")\n",
    "\n",
    "\n",
    "auPairs = {}\n",
    "# 作者组合次数\n",
    "auCoop = {}\n",
    "# 作者合作次数\n",
    "\n",
    "instPairs = {}\n",
    "# 机构组合次数\n",
    "instCoop = {}\n",
    "# 机构合作次数\n",
    "\n",
    "for i in range(len(df)):\n",
    "    info = df.loc[i]\n",
    "    ls = eval(info[\"AF\"])\n",
    "    aus = []\n",
    "    insts = []\n",
    "    for auInst in ls:\n",
    "        for k, v in auInst.items():\n",
    "            aus.append(k)\n",
    "            insts.append(v)\n",
    "    aus = list(set(aus))\n",
    "    insts = list(set(insts))\n",
    "    # 合作次数\n",
    "    for au in aus:\n",
    "        auCoop[au] = len(aus) - 1 + auCoop.get(au, 0)\n",
    "    for inst in insts:\n",
    "        instCoop[inst] = len(insts) - 1 + instCoop.get(inst, 0)\n",
    "    # 合作组合次数\n",
    "    for i in range(len(aus)):\n",
    "        for j in range(i + 1, len(aus)):\n",
    "            auPairs[(aus[i], aus[j])] = auPairs.get((aus[i], aus[j]), 0) + 1\n",
    "    for i in range(len(insts)):\n",
    "        for j in range(i + 1, len(insts)):\n",
    "            instPairs[(insts[i], insts[j])] = instPairs.get((insts[i], insts[j]), 0) + 1"
   ]
  },
  {
   "cell_type": "code",
   "execution_count": 2,
   "metadata": {},
   "outputs": [],
   "source": [
    "# 读入三种类型的节点信息\n",
    "import json\n",
    "with open(\"../output_data/jsonCluster_All2.json\", \"r\", encoding=\"utf-8\") as f:\n",
    "    jsonData = json.load(f)  # 解析 JSON 文件"
   ]
  },
  {
   "cell_type": "markdown",
   "metadata": {},
   "source": [
    "读入三种节点的信息 papernodes\n",
    "au和inst添加合作次数——coops\n",
    "建立link——pair、value\n",
    "nodes+新link——合作网络json\n",
    "更新总json——把nodes更新 \n",
    "group==2 then coopnum=dc[id]"
   ]
  },
  {
   "cell_type": "code",
   "execution_count": 3,
   "metadata": {},
   "outputs": [
    {
     "name": "stdout",
     "output_type": "stream",
     "text": [
      "{'id': 'Vials: Visualizing Alternative Splicing of Genes', 'group': 1, 'doi': '10.1109/TVCG.2015.2467911', 'ab': 'Alternative splicing is a process by which the same DNA sequence is used to assemble different proteins, called protein isoforms. Alternative splicing works by selectively omitting some of the coding regions (exons) typically associated with a gene. Detection of alternative splicing is difficult and uses a combination of advanced data acquisition methods and statistical inference. Knowledge about the abundance of isoforms is important for understanding both normal processes and diseases and to eventually improve treatment through targeted therapies. The data, however, is complex and current visualizations for isoforms are neither perceptually efficient nor scalable. To remedy this, we developed Vials, a novel visual analysis tool that enables analysts to explore the various datasets that scientists use to make judgments about isoforms: the abundance of reads associated with the coding regions of the gene, evidence for junctions, i.e., edges connecting the coding regions, and predictions of isoform frequencies. Vials is scalable as it allows for the simultaneous analysis of many samples in multiple groups. Our tool thus enables experts to (a) identify patterns of isoform abundance in groups of samples and (b) evaluate the quality of the data. We demonstrate the value of our tool in case studies using publicly available datasets.', 'keywords': 'Biology visualization,protein isoforms,mRNA-seq,directed acyclic   graphs,multivariate networks', 'year': '2016', 'auInst': 'Strobelt, Hendrik-Harvard Univ;Botros, Joseph-Harvard Univ;Pfister, Hanspeter-Harvard Univ;Lex, Alexander-Harvard Univ;Alsallakh, Bilal-Vienna Univ Technol;Peterson, Brant-Novartis Inst BioMed Res;Borowsky, Mark-Novartis Inst BioMed Res;Lex, Alexander-Univ Utah', 'cluster': 10}\n",
      "{'id': 'Peterson, Brant', 'group': 2, 'paperCount': 1, 'inst': 'Novartis Inst BioMed Res', 'cluster': 10, 'coop': 6}\n",
      "{'id': 'USTC', 'group': 3, 'paperCount': 1, 'cluster': 9, 'coop': 2}\n",
      "11585\n"
     ]
    }
   ],
   "source": [
    "papaerNodes=[]\n",
    "auNodes=[]\n",
    "instNodes=[]\n",
    "for node in jsonData[\"nodes\"]:\n",
    "    if node[\"group\"]==1:\n",
    "        papaerNodes.append(node)\n",
    "    elif node[\"group\"]==2:\n",
    "        node[\"coop\"]=auCoop[node[\"id\"]]\n",
    "        auNodes.append(node)\n",
    "    else:\n",
    "        node[\"coop\"] = instCoop[node[\"id\"]]\n",
    "        instNodes.append(node)\n",
    "\n",
    "print(papaerNodes[-1])\n",
    "print(auNodes[-1])\n",
    "print(instNodes[-1])\n",
    "print(len(papaerNodes)+len(auNodes)+len(instNodes))"
   ]
  },
  {
   "cell_type": "code",
   "execution_count": 4,
   "metadata": {},
   "outputs": [],
   "source": [
    "auLinks=[]\n",
    "instLinks=[]\n",
    "auClusterDc={}\n",
    "instClusterDc={}\n",
    "# 获取节点名称对应的社区号\n",
    "for au in auNodes:\n",
    "    auClusterDc[au[\"id\"]]=au[\"cluster\"]\n",
    "for inst in instNodes:\n",
    "    instClusterDc[inst[\"id\"]]=inst[\"cluster\"]\n",
    "# 建立连边\n",
    "for pair in auPairs:\n",
    "    i=auClusterDc[pair[0]]\n",
    "    j=auClusterDc[pair[1]]\n",
    "    if i==j:\n",
    "        link = {\n",
    "            \"source\": pair[0],\n",
    "            \"target\": pair[1],\n",
    "            \"value\": auPairs[pair],\n",
    "            \"cluster\": i,\n",
    "        }\n",
    "        auLinks.append(link)\n",
    "for pair in instPairs:\n",
    "    i = instClusterDc[pair[0]]\n",
    "    j = instClusterDc[pair[1]]\n",
    "    if i==j:\n",
    "        link = {\n",
    "            \"source\": pair[0],\n",
    "            \"target\": pair[1],\n",
    "            \"value\": instPairs[pair],\n",
    "            \"cluster\": i,\n",
    "        }\n",
    "        instLinks.append(link)"
   ]
  },
  {
   "cell_type": "code",
   "execution_count": 5,
   "metadata": {},
   "outputs": [],
   "source": [
    "# 建立合作网络\n",
    "auCoopJson={}\n",
    "auCoopJson[\"nodes\"]=auNodes\n",
    "auCoopJson[\"links\"]=auLinks\n",
    "instCoopJson={}\n",
    "instCoopJson[\"nodes\"]=instNodes\n",
    "instCoopJson[\"links\"]=instLinks\n",
    "\n",
    "with open(\"../output_data/auCoop10.json\", \"w\", encoding=\"utf-8\") as f:\n",
    "    json.dump(auCoopJson, f, indent=4, ensure_ascii=False)\n",
    "with open(\"../output_data/instCoop10.json\", \"w\", encoding=\"utf-8\") as f:\n",
    "    json.dump(instCoopJson, f, indent=4, ensure_ascii=False)"
   ]
  },
  {
   "cell_type": "code",
   "execution_count": 6,
   "metadata": {},
   "outputs": [
    {
     "name": "stdout",
     "output_type": "stream",
     "text": [
      "28435\n",
      "11585\n"
     ]
    }
   ],
   "source": [
    "# 更新全图json\n",
    "jsonLinks=jsonData[\"links\"]\n",
    "print(len(jsonLinks))\n",
    "print(len(auNodes)+len(papaerNodes)+len(instNodes))\n"
   ]
  },
  {
   "cell_type": "code",
   "execution_count": 8,
   "metadata": {},
   "outputs": [],
   "source": [
    "jsonData_Update={}\n",
    "jsonData_Update[\"nodes\"]=papaerNodes+auNodes+instNodes\n",
    "jsonData_Update[\"links\"]=jsonLinks\n",
    "with open(\"../output_data/jsonCluster_All_Coop10.json\", \"w\", encoding=\"utf-8\") as f:\n",
    "    json.dump(jsonData_Update, f, indent=4, ensure_ascii=False)"
   ]
  },
  {
   "cell_type": "code",
   "execution_count": 9,
   "metadata": {},
   "outputs": [
    {
     "name": "stdout",
     "output_type": "stream",
     "text": [
      "2989\n",
      "13567\n"
     ]
    }
   ],
   "source": [
    "# 更新绘制图json 中的Coop\n",
    "with open(\"../output_data/jsonCluster_Draw2.json\", \"r\", encoding=\"utf-8\") as f:\n",
    "    jsonData_Draw = json.load(f)\n",
    "print(len(jsonData_Draw[\"nodes\"]))\n",
    "print(len(jsonData_Draw[\"links\"]))"
   ]
  },
  {
   "cell_type": "code",
   "execution_count": 10,
   "metadata": {},
   "outputs": [
    {
     "name": "stdout",
     "output_type": "stream",
     "text": [
      "{'id': 'Qu, Huamin', 'group': 2, 'paperCount': 65, 'inst': 'Hong Kong Univ Sci & Technol', 'cluster': 9, 'coop': 331}\n"
     ]
    }
   ],
   "source": [
    "auInstMax=[]    #最有影响力的作者和机构 用于绘制\n",
    "for node in jsonData_Draw[\"nodes\"]:\n",
    "    if node[\"group\"]==2 or node[\"group\"]==3:\n",
    "        auInstMax.append(node[\"id\"])\n",
    "DrawNodes=jsonData_Draw[\"nodes\"]\n",
    "for idx,node in enumerate(DrawNodes):\n",
    "    if node[\"id\"] in auInstMax:\n",
    "        if node[\"group\"]==2:\n",
    "            DrawNodes[idx][\"coop\"]=auCoop[node[\"id\"]]\n",
    "        elif node[\"group\"] == 3:\n",
    "            DrawNodes[idx][\"coop\"] = instCoop[node[\"id\"]]\n",
    "print(DrawNodes[0])"
   ]
  },
  {
   "cell_type": "code",
   "execution_count": 11,
   "metadata": {},
   "outputs": [
    {
     "name": "stdout",
     "output_type": "stream",
     "text": [
      "2989\n"
     ]
    }
   ],
   "source": [
    "print(len(DrawNodes))"
   ]
  },
  {
   "cell_type": "code",
   "execution_count": 12,
   "metadata": {},
   "outputs": [],
   "source": [
    "jsonData_Draw[\"nodes\"]=DrawNodes\n",
    "with open(\"../output_data/jsonCluster_Draw_Coop10.json\", \"w\", encoding=\"utf-8\") as f:\n",
    "    json.dump(jsonData_Draw, f, indent=4, ensure_ascii=False)"
   ]
  },
  {
   "cell_type": "code",
   "execution_count": 14,
   "metadata": {},
   "outputs": [
    {
     "name": "stdout",
     "output_type": "stream",
     "text": [
      "2989\n",
      "13567\n"
     ]
    }
   ],
   "source": [
    "# 验证\n",
    "with open(\"../output_data/jsonCluster_Draw_Coop10.json\", \"r\", encoding=\"utf-8\") as f:\n",
    "    jsonData_Draw = json.load(f)\n",
    "print(len(jsonData_Draw[\"nodes\"]))\n",
    "print(len(jsonData_Draw[\"links\"]))"
   ]
  }
 ],
 "metadata": {
  "kernelspec": {
   "display_name": "Python 3",
   "language": "python",
   "name": "python3"
  },
  "language_info": {
   "codemirror_mode": {
    "name": "ipython",
    "version": 3
   },
   "file_extension": ".py",
   "mimetype": "text/x-python",
   "name": "python",
   "nbconvert_exporter": "python",
   "pygments_lexer": "ipython3",
   "version": "3.13.1"
  }
 },
 "nbformat": 4,
 "nbformat_minor": 2
}
